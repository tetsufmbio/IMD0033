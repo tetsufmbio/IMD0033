{
 "cells": [
  {
   "cell_type": "markdown",
   "metadata": {},
   "source": [
    "# Introdução a Python\n",
    "\n",
    "Este notebook te ajudará a adquirir noções da linguagem Python."
   ]
  },
  {
   "cell_type": "markdown",
   "metadata": {},
   "source": [
    "## Características da linguagem Python:\n",
    "#### Fácil de aprender e usar\n",
    "É uma linguagem amigável para desenvolver e de alto nível\n",
    "#### Linguagem expressiva\n",
    "Fácil de ler e entender o código\n",
    "#### Linguagem interpretada\n",
    "O interpretador executa o código linha por linha. Fácil de corrigir os erros;\n",
    "#### Portabilidade\n",
    "Scripts em python podem ser executados tanto em uma máquina Windows, Linux e Mac. ;\n",
    "#### Gratuito e open source\n",
    "A linguagem python é distribuído gratuitamente em seu endereço oficial [https://www.python.org/]. O código fonte também está disponível, portanto ele é um open source;\n",
    "#### Linguagem objeto orientado\n",
    "Python utiliza conceitos de classe e objeto;\n",
    "#### Extensível\n",
    "Outras linguagens como C/C++ podem ser utilizadas para compilar um código;\n",
    "#### Possui uma biblioteca padrão extensa \n",
    "Vasto conjunto de módulos e funções para um rápido desenvolvimento de aplicações;\n",
    "#### Suporte para programação em GUI\n",
    "Permite o desenvolvimento de programas com interface gráfica;\n",
    "#### Integração\n",
    "Pode ser facilmente integrado a outras linguagens como C/C++, Java, etc."
   ]
  },
  {
   "cell_type": "markdown",
   "metadata": {},
   "source": [
    "### Hello World\n",
    "\n",
    "Para imprimir textos, basta usar a função print()"
   ]
  },
  {
   "cell_type": "code",
   "execution_count": null,
   "metadata": {},
   "outputs": [],
   "source": [
    "print(\"Hello World\")"
   ]
  },
  {
   "cell_type": "code",
   "execution_count": null,
   "metadata": {},
   "outputs": [],
   "source": [
    "print('Hello World')"
   ]
  },
  {
   "cell_type": "markdown",
   "metadata": {},
   "source": [
    "### Comentários\n",
    "\n",
    "Linhas que iniciam com # são comentários. No Jupyter Notebook não ocorre, mas você pode comentar múltiplas linhas colocando elas entre '''."
   ]
  },
  {
   "cell_type": "code",
   "execution_count": null,
   "metadata": {},
   "outputs": [],
   "source": [
    "# Isto é um comentário\n"
   ]
  },
  {
   "cell_type": "markdown",
   "metadata": {},
   "source": [
    "No Jupyter Notebook, você pode comentar várias linhas de uma vez selecionando as linhas que quer comentar e dê o comando Ctrl + /"
   ]
  },
  {
   "cell_type": "code",
   "execution_count": null,
   "metadata": {},
   "outputs": [],
   "source": [
    "# Comente as linhas abaixo de uma só vez:\n",
    "\n",
    "'this is a string using single quotes'\n",
    "\"this is a string using double quotes\"\n",
    "'''this is a triple quoted string using single quotes'''\n",
    "\"\"\"this is a triple quoted string using double quotes\"\"\""
   ]
  },
  {
   "cell_type": "markdown",
   "metadata": {},
   "source": [
    "## Objetos em Python e seus tipos\n",
    "\n",
    "Tudo em Python é um **objeto** e todo objeto em Python é de um **tipo**. Alguns dos tipos básicos são:\n",
    "\n",
    "- **`int`** (inteiro)\n",
    "  - `10`\n",
    "  - `-3`\n",
    "- **`float`** (float)\n",
    "  - `7.41`\n",
    "  - `-0.006`\n",
    "- **`str`** (string; sequência de caracteres entre aspas simples, dupla, aspas simples tripla ou aspas dupla tripla)\n",
    "  - `'this is a string using single quotes'`\n",
    "  - `\"this is a string using double quotes\"`\n",
    "  - `'''this is a triple quoted string using single quotes'''`\n",
    "  - `\"\"\"this is a triple quoted string using double quotes\"\"\"`\n",
    "- **`bool`** (boolean; valor binário que recebe true ou false)\n",
    "  - `True`\n",
    "  - `False`\n",
    "- **`NoneType`** (um tipo especial que representa ausência de valor)\n",
    "  - `None`\n",
    " \n",
    "Use a função type() para verificar os tipos de cada objeto citado acima:"
   ]
  },
  {
   "cell_type": "code",
   "execution_count": null,
   "metadata": {},
   "outputs": [],
   "source": [
    "type(None)"
   ]
  },
  {
   "cell_type": "code",
   "execution_count": null,
   "metadata": {},
   "outputs": [],
   "source": []
  },
  {
   "cell_type": "code",
   "execution_count": null,
   "metadata": {},
   "outputs": [],
   "source": []
  },
  {
   "cell_type": "code",
   "execution_count": null,
   "metadata": {},
   "outputs": [],
   "source": []
  },
  {
   "cell_type": "markdown",
   "metadata": {},
   "source": [
    "#### Exercício\n",
    "\n",
    "Qual a diferença entre as aspas simples e dupla?"
   ]
  },
  {
   "cell_type": "markdown",
   "metadata": {},
   "source": []
  },
  {
   "cell_type": "markdown",
   "metadata": {},
   "source": [
    "Qual a diferença entre colocar uma aspas ou três aspas?"
   ]
  },
  {
   "cell_type": "markdown",
   "metadata": {},
   "source": []
  },
  {
   "cell_type": "markdown",
   "metadata": {},
   "source": [
    "Como eu poderia armazenar imprimir na tela a seguinte frase: Hello 'python'!"
   ]
  },
  {
   "cell_type": "code",
   "execution_count": null,
   "metadata": {},
   "outputs": [],
   "source": []
  },
  {
   "cell_type": "markdown",
   "metadata": {},
   "source": [
    "## Variáveis em Python\n",
    "\n",
    "Em Python, uma **variável** é um nome que você especifica no seu código que mapeia um **objeto** particular ou um valor.\n",
    "\n",
    "Definindo uma variável, nós podemos nos referir a coisas por nome que faz sentido para nós. \n",
    "\n",
    "Os nomes de variáveis só podem conter letras, underscores (`_`) ou números (não pode haver espaços, traços ou outros caracteres). Além disso, o nome de uma variável deve começar com uma letra ou underscore.\n",
    "\n",
    "A atribuição de um objeto a uma variável se dá pelo sinal de \"=\".\n",
    "\n",
    "### Exercício\n",
    "\n",
    "Crie uma variável que receberá o seu nome, e uma outra variável que receberá a sua idade."
   ]
  },
  {
   "cell_type": "code",
   "execution_count": null,
   "metadata": {},
   "outputs": [],
   "source": [
    "nome = \"meu nome\"\n"
   ]
  },
  {
   "cell_type": "markdown",
   "metadata": {},
   "source": [
    "## Operações básicas\n",
    "\n",
    "No Python, existem diferentes tipos de  **operadores** que operam em diferentes valores. Alguns dos operadores básicos incluem:\n",
    "\n",
    "- Operadores aritméticos\n",
    "  - **`+`** (adição)\n",
    "  - **`-`** (subtração)\n",
    "  - **`*`** (multiplicação)\n",
    "  - **`/`** (divisão)\n",
    "  - **`%`** (módulo)\n",
    "  - __`**`__ (expoente)\n",
    "- Operadores de atribuição\n",
    "  - **`=`** (atribuir um valor)\n",
    "  - **`+=`** (adiciona e re-atribui; incrementar)\n",
    "  - **`-=`** (retira e re-atribui; decrementar)\n",
    "  - **`*=`** (multiplica e re-atribui)\n",
    "- Operadores de comparação (retorna `True` ou `False`)\n",
    "  - **`==`** (igual a)\n",
    "  - **`!=`** (não igual a)\n",
    "  - **`<`** (menor que)\n",
    "  - **`<=`** (menor ou igual que)\n",
    "  - **`>`** (maior que)\n",
    "  - **`>=`** (maior ou igual a)\n",
    "\n",
    "Quando múltiplos operadores são utilizados em uma expressão única, o **operador precedente** determina quais partes da expressão são avaliados em qual ordem. Operadores com precedência alta são avaliados primeiro. Operadores com a mesma precedência são avaliados da esquerda para direita.\n",
    "\n",
    "- `()` parêntenses, for grouping\n",
    "- `**` expoente\n",
    "- `*`, `/` multiplicação e divisão\n",
    "- `+`, `-` adição e subtração\n",
    "- `==`, `!=`, `<`, `<=`, `>`, `>=` comparações"
   ]
  },
  {
   "cell_type": "code",
   "execution_count": null,
   "metadata": {},
   "outputs": [],
   "source": [
    "# Atribuindo alguns valores a algumas variáveis\n",
    "num1 = 10\n",
    "num2 = -3\n",
    "num3 = 7.41\n",
    "num4 = -.6\n",
    "num5 = 7\n",
    "num6 = 3\n",
    "num7 = 11.11"
   ]
  },
  {
   "cell_type": "code",
   "execution_count": null,
   "metadata": {},
   "outputs": [],
   "source": [
    "# Adição\n",
    "num1 + num2"
   ]
  },
  {
   "cell_type": "code",
   "execution_count": null,
   "metadata": {},
   "outputs": [],
   "source": [
    "# Subtração\n",
    "num2 - num3"
   ]
  },
  {
   "cell_type": "code",
   "execution_count": null,
   "metadata": {},
   "outputs": [],
   "source": [
    "# Multiplicação\n",
    "num3 * num4"
   ]
  },
  {
   "cell_type": "code",
   "execution_count": null,
   "metadata": {},
   "outputs": [],
   "source": [
    "# Divisão\n",
    "num4 / num5"
   ]
  },
  {
   "cell_type": "code",
   "execution_count": null,
   "metadata": {},
   "outputs": [],
   "source": [
    "# Módulo\n",
    "num5 % num6"
   ]
  },
  {
   "cell_type": "code",
   "execution_count": null,
   "metadata": {},
   "outputs": [],
   "source": [
    "# Expoente\n",
    "num5 ** num6"
   ]
  },
  {
   "cell_type": "code",
   "execution_count": null,
   "metadata": {},
   "outputs": [],
   "source": [
    "# Incrementar variável existente\n",
    "num7 += 4\n",
    "num7"
   ]
  },
  {
   "cell_type": "code",
   "execution_count": null,
   "metadata": {},
   "outputs": [],
   "source": [
    "# Decrementar variável existente\n",
    "num6 -= 2\n",
    "num6"
   ]
  },
  {
   "cell_type": "code",
   "execution_count": null,
   "metadata": {},
   "outputs": [],
   "source": [
    "# Multiplicar e re-atribuir\n",
    "num3 *= 5\n",
    "num3"
   ]
  },
  {
   "cell_type": "code",
   "execution_count": null,
   "metadata": {},
   "outputs": [],
   "source": [
    "# Atribuir o resultado de uma expressão a uma variável\n",
    "num8 = num1 + num2 * num3\n",
    "num8"
   ]
  },
  {
   "cell_type": "code",
   "execution_count": null,
   "metadata": {},
   "outputs": [],
   "source": [
    "# As duas expressões abaixo são iguais entre eles?\n",
    "num1 + num2 == num5"
   ]
  },
  {
   "cell_type": "code",
   "execution_count": null,
   "metadata": {},
   "outputs": [],
   "source": [
    "# As duas expressões abaixo são diferentes entre eles?\n",
    "num3 != num4"
   ]
  },
  {
   "cell_type": "code",
   "execution_count": null,
   "metadata": {},
   "outputs": [],
   "source": [
    "# A primeira expressão é menor que a segunda expressão?\n",
    "num5 < num6"
   ]
  },
  {
   "cell_type": "code",
   "execution_count": null,
   "metadata": {},
   "outputs": [],
   "source": [
    "# Esta expressão é verdadeira?\n",
    "5 > 3 > 1"
   ]
  },
  {
   "cell_type": "code",
   "execution_count": null,
   "metadata": {},
   "outputs": [],
   "source": [
    "# Esta expressão é verdadeira?\n",
    "5 > 3 < 4 == 3 + 1"
   ]
  },
  {
   "cell_type": "code",
   "execution_count": null,
   "metadata": {},
   "outputs": [],
   "source": [
    "# Atribuir strings a algumas variáveis\n",
    "simple_string1 = 'an example'\n",
    "simple_string2 = \"oranges \""
   ]
  },
  {
   "cell_type": "code",
   "execution_count": null,
   "metadata": {},
   "outputs": [],
   "source": [
    "# Adição ou concatenação\n",
    "simple_string1 + ' of using the + operator'"
   ]
  },
  {
   "cell_type": "code",
   "execution_count": null,
   "metadata": {},
   "outputs": [],
   "source": [
    "# Note que a variável não foi modificado\n",
    "simple_string1"
   ]
  },
  {
   "cell_type": "code",
   "execution_count": null,
   "metadata": {},
   "outputs": [],
   "source": [
    "# Multiplicação\n",
    "simple_string2 * 4"
   ]
  },
  {
   "cell_type": "code",
   "execution_count": null,
   "metadata": {},
   "outputs": [],
   "source": [
    "# Este string não foi modificado\n",
    "simple_string2"
   ]
  },
  {
   "cell_type": "code",
   "execution_count": null,
   "metadata": {},
   "outputs": [],
   "source": [
    "# Estas duas expressões são iguais entre elas?\n",
    "simple_string1 == simple_string2"
   ]
  },
  {
   "cell_type": "code",
   "execution_count": null,
   "metadata": {},
   "outputs": [],
   "source": [
    "# Estas duas expressões são iguais entre elas?\n",
    "simple_string1 == 'an example'"
   ]
  },
  {
   "cell_type": "code",
   "execution_count": null,
   "metadata": {},
   "outputs": [],
   "source": [
    "# Adicionar (concatenar) e re-atribuir\n",
    "simple_string1 += ' that re-assigned the original string'\n",
    "simple_string1"
   ]
  },
  {
   "cell_type": "code",
   "execution_count": null,
   "metadata": {},
   "outputs": [],
   "source": [
    "# Multiplicar e re-atribuir\n",
    "simple_string2 *= 3\n",
    "simple_string2"
   ]
  },
  {
   "cell_type": "code",
   "execution_count": null,
   "metadata": {},
   "outputs": [],
   "source": [
    "# Nota: Operadores de subtração, divisão, e de decremento não se aplica a strings."
   ]
  },
  {
   "cell_type": "markdown",
   "metadata": {},
   "source": [
    "### Exercício\n",
    "\n",
    "Escreva um código em Python que resolva uma expressão de segundo grau utilizando o teorema de Bhascara. Tente resolver esta função: x<sup>2</sup> + 12x – 13 = 0"
   ]
  },
  {
   "cell_type": "code",
   "execution_count": null,
   "metadata": {},
   "outputs": [],
   "source": []
  },
  {
   "cell_type": "markdown",
   "metadata": {},
   "source": [
    "Escreva um código em Python que consiga determinar se um número em uma variável é par ou ímpar."
   ]
  },
  {
   "cell_type": "code",
   "execution_count": null,
   "metadata": {},
   "outputs": [],
   "source": []
  },
  {
   "cell_type": "markdown",
   "metadata": {},
   "source": [
    "## Contêiners básicos\n",
    "\n",
    "Contêiners são objetos que podem ser usados para agrupar outros objetos. Os tipos básicos de contêiners incluem:\n",
    "\n",
    "- **`str`** (string: imutável; indexado por inteiros; cada item é armazenado na ordem que foi adicionado)\n",
    "- **`list`** (lista: mutável; indexado por inteiros; cada item é armazenado na ordem que foi adicionado)\n",
    "  - `[3, 5, 6, 3, 'dog', 'cat', False]`\n",
    "- **`tuple`** (tupla: imutável; indexado por inteiros; cada item é armazenado na ordem que foi adicionado)\n",
    "  - `(3, 5, 6, 3, 'dog', 'cat', False)`\n",
    "- **`set`** (conjunto: mutável; não indexado; os itens NÃO são armazenados na ordem que foi adicionado; pode apenas conter objetos imutáveis; não contém objetos duplicados)\n",
    "  - `{3, 5, 6, 3, 'dog', 'cat', False}`\n",
    "- **`dict`** (dicionário: mutável; os pares chave-valor são indexados por chaves imutáveis; os itens NÃO são armazenados na ordem que foram adicionados)\n",
    "  - `{'name': 'Jane', 'age': 23, 'fav_foods': ['pizza', 'fruit', 'fish']}`\n",
    "\n",
    "> Nota: objetos **mutáveis** são aqueles que podem ser modificados após a sua criação e os objetos **imutáveis** não.\n",
    "\n",
    "Quando criar uma variável lista, tupla ou conjunto, utilize vírgulas (,) para separar os itens individuais. \n",
    "\n",
    "Quando criar um dicionário, utilize dois-pontos (:) para separar chaves dos valores e vírgulas (,) para separar os pares chave-valor.\n",
    "\n",
    "Strings, listas, e tuplas são todos do **tipo sequência** e podem utilizar os operadores `+`, `*`, `+=`, e `*=`."
   ]
  },
  {
   "cell_type": "code",
   "execution_count": null,
   "metadata": {},
   "outputs": [],
   "source": [
    "# Atribuindo alguns contêiners para diferentes variáveis\n",
    "list1 = [3, 5, 6, 3, 'dog', 'cat', False]\n",
    "tuple1 = (3, 5, 6, 3, 'dog', 'cat', False)\n",
    "set1 = {3, 5, 6, 3, 'dog', 'cat', False}\n",
    "dict1 = {'age': 23, 'name': 'Jane', 'fav_foods': ['pizza', 'fruit', 'fish']}"
   ]
  },
  {
   "cell_type": "code",
   "execution_count": null,
   "metadata": {},
   "outputs": [],
   "source": [
    "# Itens na lista são armazenados na ordem que foram adicionados.\n",
    "list1"
   ]
  },
  {
   "cell_type": "code",
   "execution_count": null,
   "metadata": {},
   "outputs": [],
   "source": [
    "# Itens na tupla são armazenados na ordem que foram adicionados.\n",
    "tuple1"
   ]
  },
  {
   "cell_type": "code",
   "execution_count": null,
   "metadata": {},
   "outputs": [],
   "source": [
    "# Itens no conjunto NÃO são armazenados na ordem que foram adicionados.\n",
    "# Também note que o valor 3 aparece apenas uma vez neste conjunto.\n",
    "set1"
   ]
  },
  {
   "cell_type": "code",
   "execution_count": null,
   "metadata": {},
   "outputs": [],
   "source": [
    "# Itens no dicionário NÃO são armazenados na ordem que foram adicionados.\n",
    "dict1"
   ]
  },
  {
   "cell_type": "code",
   "execution_count": null,
   "metadata": {},
   "outputs": [],
   "source": [
    "# Adicionar e re-atribuir\n",
    "list1 += [5, 'grapes']\n",
    "list1"
   ]
  },
  {
   "cell_type": "code",
   "execution_count": null,
   "metadata": {},
   "outputs": [],
   "source": [
    "# Adicionar e reatribuir\n",
    "tuple1 += (5, 'grapes')\n",
    "tuple1"
   ]
  },
  {
   "cell_type": "code",
   "execution_count": null,
   "metadata": {},
   "outputs": [],
   "source": [
    "# Multiplicar\n",
    "[1, 2, 3, 4] * 2"
   ]
  },
  {
   "cell_type": "code",
   "execution_count": null,
   "metadata": {},
   "outputs": [],
   "source": [
    "# Multiplicar\n",
    "(1, 2, 3, 4) * 3"
   ]
  },
  {
   "cell_type": "markdown",
   "metadata": {},
   "source": [
    "## Acessando os dados nos contêiners\n",
    "\n",
    "Para strings, listas, tuplas e dicionários, podemos usar a **notação subscrita** (colchetes) para acessar dados em um índice.\n",
    "\n",
    "- strings, listas, and tuplas são indexadas por inteiros, **sendo o 0** o primeiro item:\n",
    "  - Estes tipos de sequência também suportam acessar um intervalo de itens, conhecido como **slicing**;\n",
    "  - utilize a **indexação negativa** para começar pelo último item da sequência\n",
    "- dicionários são indexados por chaves.\n",
    "\n",
    "> Nota: conjuntos não são indexados, portanto nós não podemos usar a notação subscrita para acessar os seus elementos."
   ]
  },
  {
   "cell_type": "code",
   "execution_count": null,
   "metadata": {},
   "outputs": [],
   "source": [
    "# Acessar o primeiro caractere de uma string\n",
    "str1 = \"cat\"\n",
    "str1[0]"
   ]
  },
  {
   "cell_type": "code",
   "execution_count": null,
   "metadata": {},
   "outputs": [],
   "source": [
    "# Acessar o segundo elemento da sequência\n",
    "list1[1]"
   ]
  },
  {
   "cell_type": "code",
   "execution_count": null,
   "metadata": {},
   "outputs": [],
   "source": [
    "# Acessar o último elemento da sequência\n",
    "tuple1[-1]"
   ]
  },
  {
   "cell_type": "code",
   "execution_count": null,
   "metadata": {},
   "outputs": [],
   "source": [
    "# Acessar um intervalo de itens na sequência\n",
    "simple_string1[3:8]"
   ]
  },
  {
   "cell_type": "code",
   "execution_count": null,
   "metadata": {},
   "outputs": [],
   "source": [
    "# Acessar um intervalo de itens na sequência\n",
    "tuple1[:-3]"
   ]
  },
  {
   "cell_type": "code",
   "execution_count": null,
   "metadata": {},
   "outputs": [],
   "source": [
    "# Acessar um intervalo de itens na sequência\n",
    "list1[4:]"
   ]
  },
  {
   "cell_type": "code",
   "execution_count": null,
   "metadata": {},
   "outputs": [],
   "source": [
    "# Acessar itens em um dicionário\n",
    "dict1['name']"
   ]
  },
  {
   "cell_type": "code",
   "execution_count": null,
   "metadata": {
    "scrolled": true
   },
   "outputs": [],
   "source": [
    "# Acessar um elemento de uma sequência em um dicionário\n",
    "dict1['fav_foods'][2]"
   ]
  },
  {
   "cell_type": "markdown",
   "metadata": {},
   "source": [
    "## Alguns métodos associados a string\n",
    "\n",
    "Descreva o que cada método abaixo realiza a uma determinada string."
   ]
  },
  {
   "cell_type": "code",
   "execution_count": null,
   "metadata": {},
   "outputs": [],
   "source": [
    "teste = 'sou uma String'"
   ]
  },
  {
   "cell_type": "code",
   "execution_count": null,
   "metadata": {},
   "outputs": [],
   "source": [
    "teste.capitalize()"
   ]
  },
  {
   "cell_type": "code",
   "execution_count": null,
   "metadata": {},
   "outputs": [],
   "source": [
    "teste.lower()"
   ]
  },
  {
   "cell_type": "code",
   "execution_count": null,
   "metadata": {},
   "outputs": [],
   "source": [
    "teste.upper()"
   ]
  },
  {
   "cell_type": "code",
   "execution_count": null,
   "metadata": {},
   "outputs": [],
   "source": [
    "teste.swapcase()"
   ]
  },
  {
   "cell_type": "code",
   "execution_count": null,
   "metadata": {},
   "outputs": [],
   "source": [
    "print(teste.count(\"u\"))\n",
    "print(teste.count(\"g\"))\n",
    "print(teste.count(\"l\"))"
   ]
  },
  {
   "cell_type": "code",
   "execution_count": null,
   "metadata": {},
   "outputs": [],
   "source": [
    "print(teste.find(\"u\"))\n",
    "print(teste.find(\"g\"))\n",
    "print(teste.find(\"l\"))"
   ]
  },
  {
   "cell_type": "code",
   "execution_count": null,
   "metadata": {},
   "outputs": [],
   "source": [
    "print(teste.index(\"u\"))\n",
    "print(teste.index(\"g\"))\n",
    "print(teste.index(\"l\"))"
   ]
  },
  {
   "cell_type": "code",
   "execution_count": null,
   "metadata": {},
   "outputs": [],
   "source": [
    "print(teste.endswith(\"ing\"))\n",
    "print(teste.endswith(\"in\"))"
   ]
  },
  {
   "cell_type": "code",
   "execution_count": null,
   "metadata": {},
   "outputs": [],
   "source": [
    "c = \"Fitness\"\n",
    "print(c.isalnum())\n",
    "\n",
    "c = \"123\"\n",
    "print(c.isalnum())\n",
    "\n",
    "c = \"1.23\"\n",
    "print(c.isalnum())\n",
    "\n",
    "c = \"$*%!!!\"\n",
    "print(c.isalnum())\n",
    "\n",
    "c = \"0.34j\"\n",
    "print(c.isalnum())"
   ]
  },
  {
   "cell_type": "code",
   "execution_count": null,
   "metadata": {},
   "outputs": [],
   "source": [
    "c = \"Fitness\"\n",
    "print(c.isalpha())\n",
    "\n",
    "c = \"123\"\n",
    "print(c.isalpha())\n",
    "\n",
    "c = \"$*%!!!\"\n",
    "print(c.isalpha())"
   ]
  },
  {
   "cell_type": "code",
   "execution_count": null,
   "metadata": {},
   "outputs": [],
   "source": [
    "c = \"123\"\n",
    "print(c.isnumeric())\n",
    "\n",
    "c = \"1.23\"\n",
    "print(c.isnumeric())\n",
    "\n",
    "c = \"u123\"\n",
    "print(c.isnumeric())\n",
    "\n",
    "c = \"Fitness\"\n",
    "print(c.isnumeric())\n",
    "\n",
    "c = \"$*%!!!\"\n",
    "print(c.isnumeric())"
   ]
  },
  {
   "cell_type": "code",
   "execution_count": null,
   "metadata": {},
   "outputs": [],
   "source": [
    "c = \"123\"\n",
    "print(c.isdigit())\n",
    "\n",
    "c = u\"\\u00B2\"\n",
    "print(c.isdigit())\n",
    "\n",
    "c = \"1.23\"\n",
    "print(c.isdigit())\n",
    "\n",
    "c = \"u123\"\n",
    "print(c.isdigit())\n",
    "\n",
    "c = \"Fitness\"\n",
    "print(c.isdigit())\n",
    "\n",
    "c = \"$*%!!!\"\n",
    "print(c.isdigit())"
   ]
  },
  {
   "cell_type": "code",
   "execution_count": null,
   "metadata": {},
   "outputs": [],
   "source": [
    "a = \"-\"\n",
    "print(a.join(\"123\"))\n",
    "\n",
    "a = \".\"\n",
    "print(a.join(\"USA\"))\n",
    "\n",
    "a = \". \"\n",
    "print(a.join((\"Dr\", \"Who\")))"
   ]
  },
  {
   "cell_type": "code",
   "execution_count": null,
   "metadata": {},
   "outputs": [],
   "source": [
    "a = \"Tea bag. Tea cup. Tea leaves.\"\n",
    "\n",
    "print(a.replace(\"Tea\", \"Coffee\"))\n",
    "print(a.replace(\"Tea\", \"Coffee\", 2))"
   ]
  },
  {
   "cell_type": "code",
   "execution_count": null,
   "metadata": {},
   "outputs": [],
   "source": [
    "a = \"Homer Jay Simpson\"\n",
    "print(a.split())\n",
    "\n",
    "a = \"Homer-Jay-Simpson\"\n",
    "print(a.split(sep=\"-\",maxsplit=1))\n",
    "\n",
    "a = \"Homer,,Bart,\"\n",
    "print(a.split(\",\"))\n",
    "\n",
    "a = \"Homer,,Bart\"\n",
    "print(a.split(\",\", maxsplit=1))\n",
    "\n",
    "a = \"Homer<>Bart<>Marge\"\n",
    "print(a.split(\"<>\"))"
   ]
  },
  {
   "cell_type": "code",
   "execution_count": null,
   "metadata": {},
   "outputs": [],
   "source": []
  }
 ],
 "metadata": {
  "kernelspec": {
   "display_name": "Python 3",
   "language": "python",
   "name": "python3"
  },
  "language_info": {
   "codemirror_mode": {
    "name": "ipython",
    "version": 3
   },
   "file_extension": ".py",
   "mimetype": "text/x-python",
   "name": "python",
   "nbconvert_exporter": "python",
   "pygments_lexer": "ipython3",
   "version": "3.7.4"
  }
 },
 "nbformat": 4,
 "nbformat_minor": 2
}
