{
 "cells": [
  {
   "cell_type": "markdown",
   "metadata": {},
   "source": [
    "# Introdução à Python"
   ]
  },
  {
   "cell_type": "markdown",
   "metadata": {},
   "source": [
    "## Métodos e atributos associados a list"
   ]
  },
  {
   "cell_type": "code",
   "execution_count": null,
   "metadata": {},
   "outputs": [],
   "source": [
    "# lista\n",
    "planets = [\"Earth\", \"Mars\", \"Saturn\", \"Jupiter\"]"
   ]
  },
  {
   "cell_type": "code",
   "execution_count": null,
   "metadata": {},
   "outputs": [],
   "source": [
    "# lista mista\n",
    "mixedList = [\"Hey\", 123, [\"Dog\", \"Cat\", \"Bird\"]]"
   ]
  },
  {
   "cell_type": "code",
   "execution_count": null,
   "metadata": {},
   "outputs": [],
   "source": [
    "len(planets)"
   ]
  },
  {
   "cell_type": "code",
   "execution_count": null,
   "metadata": {},
   "outputs": [],
   "source": [
    "planets = [\"Earth\", \"Mars\", \"Saturn\", \"Jupiter\"]\n",
    "planets[1] = \"Mercury\"\n",
    "planets"
   ]
  },
  {
   "cell_type": "code",
   "execution_count": null,
   "metadata": {},
   "outputs": [],
   "source": [
    "planets = [\"Earth\", \"Mars\", \"Saturn\", \"Jupiter\"]\n",
    "planets.append(\"Mercury\")\n",
    "planets"
   ]
  },
  {
   "cell_type": "code",
   "execution_count": null,
   "metadata": {},
   "outputs": [],
   "source": [
    "planets = [\"Earth\", \"Mars\", \"Saturn\", \"Jupiter\"]\n",
    "planet = planets.pop()\n",
    "print(planet)\n",
    "print(planets)"
   ]
  },
  {
   "cell_type": "code",
   "execution_count": null,
   "metadata": {},
   "outputs": [],
   "source": [
    "planets = [\"Earth\", \"Mars\", \"Saturn\", \"Jupiter\"]\n",
    "planet = planets.pop(0)\n",
    "print(planet)\n",
    "print(planets)"
   ]
  },
  {
   "cell_type": "code",
   "execution_count": null,
   "metadata": {},
   "outputs": [],
   "source": [
    "planets = [\"Earth\", \"Mars\", \"Saturn\", \"Jupiter\"]\n",
    "planets.sort()\n",
    "\n",
    "print(planets)"
   ]
  },
  {
   "cell_type": "code",
   "execution_count": null,
   "metadata": {},
   "outputs": [],
   "source": [
    "planets = [\"Earth\", \"Mars\", \"Saturn\", \"Jupiter\"]\n",
    "planets.reverse()\n",
    "\n",
    "print(planets)"
   ]
  },
  {
   "cell_type": "code",
   "execution_count": null,
   "metadata": {},
   "outputs": [],
   "source": [
    "planets = [\"Earth\", \"Mars\", \"Saturn\", \"Jupiter\",\"Earth\"]\n",
    "planets.count(\"Earth\")"
   ]
  },
  {
   "cell_type": "code",
   "execution_count": null,
   "metadata": {},
   "outputs": [],
   "source": [
    "planets = [\"Earth\", \"Mars\", \"Saturn\", \"Jupiter\"]\n",
    "del planets[2]\n",
    "planets"
   ]
  },
  {
   "cell_type": "code",
   "execution_count": null,
   "metadata": {},
   "outputs": [],
   "source": [
    "# deletar variáveis (funciona para qualquer variável)\n",
    "del planets\n",
    "planets"
   ]
  },
  {
   "cell_type": "markdown",
   "metadata": {},
   "source": [
    "## Métodos e atributos associados a tuples"
   ]
  },
  {
   "cell_type": "code",
   "execution_count": null,
   "metadata": {},
   "outputs": [],
   "source": [
    "weekdays = (\"Monday\", \"Tuesday\", \"Wednesday\", \"Thursday\", \"Friday\")\n",
    "weekdays"
   ]
  },
  {
   "cell_type": "code",
   "execution_count": null,
   "metadata": {},
   "outputs": [],
   "source": [
    "weekdays = \"Monday\", \"Tuesday\", \"Wednesday\", \"Thursday\", \"Friday\"\n",
    "weekdays"
   ]
  },
  {
   "cell_type": "code",
   "execution_count": null,
   "metadata": {},
   "outputs": [],
   "source": [
    "# tupla com apenas um elemento\n",
    "a = (\"dog\")\n",
    "b = (\"dog\",)\n",
    "print(type(a))\n",
    "print(type(b))"
   ]
  },
  {
   "cell_type": "code",
   "execution_count": null,
   "metadata": {},
   "outputs": [],
   "source": [
    "# tupla contendo uma lista\n",
    "t = (\"Banana\", [1, 2, 3]) \n",
    "t"
   ]
  },
  {
   "cell_type": "code",
   "execution_count": null,
   "metadata": {},
   "outputs": [],
   "source": [
    "# acessando um elemento dentro da tupla\n",
    "t[1][2]"
   ]
  },
  {
   "cell_type": "code",
   "execution_count": null,
   "metadata": {},
   "outputs": [],
   "source": [
    "# não consigo alterar o elemento em uma tupla, mas consigo alterar o elemento numa lista dentro da tupla.\n",
    "t[1][2] = 4\n",
    "t"
   ]
  },
  {
   "cell_type": "code",
   "execution_count": null,
   "metadata": {},
   "outputs": [],
   "source": [
    "# concatenar tuplas\n",
    "weekdays = (\"Monday\", \"Tuesday\", \"Wednesday\", \"Thursday\", \"Friday\")\n",
    "weekenddays = (\"Saturday\", \"Sunday\")\n",
    "\n",
    "alldays = weekdays + weekenddays\n",
    "\n",
    "print(weekdays)\n",
    "print(weekenddays)\n",
    "print(alldays)"
   ]
  },
  {
   "cell_type": "markdown",
   "metadata": {},
   "source": [
    "## Métodos e atributos associados a dictionary"
   ]
  },
  {
   "cell_type": "code",
   "execution_count": null,
   "metadata": {},
   "outputs": [],
   "source": [
    "# Criando um dicionário\n",
    "planet_size = {\"Earth\": 40075, \"Saturn\": 378675, \"Jupiter\": 439264}\n",
    "\n",
    "print(planet_size)\n",
    "\n",
    "print(type(planet_size))"
   ]
  },
  {
   "cell_type": "code",
   "execution_count": null,
   "metadata": {},
   "outputs": [],
   "source": [
    "# Dicionários contendo lista, tupla e dicionário\n",
    "food = {\"Fruit\": [\"Apple\", \"Orange\", \"Banana\"], \"Vegetables\": (\"Eat\", \"Your\", \"Greens\"), \"Junk\": {\"Hamburguer\": 1, \"Soda\": 2}}\n",
    "\n",
    "print(food)"
   ]
  },
  {
   "cell_type": "code",
   "execution_count": null,
   "metadata": {},
   "outputs": [],
   "source": [
    "# acesse o valor que está em \"Hamburguer\" em \"Junk\".\n",
    "food[\"Junk\"][\"Hamburguer\"]\n",
    "food.get(\"Junk\").get(\"Hamburguer\")"
   ]
  },
  {
   "cell_type": "code",
   "execution_count": null,
   "metadata": {},
   "outputs": [],
   "source": [
    "# acesso a chave \"Dish\" em \"food\"\n",
    "print(food.get(\"Dish\"))\n"
   ]
  },
  {
   "cell_type": "code",
   "execution_count": null,
   "metadata": {},
   "outputs": [],
   "source": [
    "# alterar itens do dicionário\n",
    "# incremente 1 na chave \"Soda\" que está em \"Junk\"\n",
    "food[\"Junk\"][\"Soda\"] += 1\n",
    "food"
   ]
  },
  {
   "cell_type": "code",
   "execution_count": null,
   "metadata": {},
   "outputs": [],
   "source": [
    "# Adicionar nova chave e valor\n",
    "# Crie uma chave chamado \"Exotic\" no dicionário \"food\" que receberá uma lista de itens \n",
    "# que você considera como comida exótica\n"
   ]
  },
  {
   "cell_type": "code",
   "execution_count": null,
   "metadata": {},
   "outputs": [],
   "source": [
    "# Deletar item do dicionário\n",
    "del food[\"Exotic\"]\n",
    "food"
   ]
  },
  {
   "cell_type": "code",
   "execution_count": null,
   "metadata": {},
   "outputs": [],
   "source": [
    "# recuperar as chaves de um dicionário\n",
    "food.keys()"
   ]
  },
  {
   "cell_type": "code",
   "execution_count": null,
   "metadata": {},
   "outputs": [],
   "source": [
    "# recuperar valores de um dicionário\n",
    "food.values()"
   ]
  },
  {
   "cell_type": "markdown",
   "metadata": {},
   "source": [
    "## If statements\n",
    "\n",
    "Um bloco de código que é executado caso a condição estabelecida seja verdadeira.\n",
    "\n",
    "### Logical operators\n",
    "\n",
    "```\n",
    "==  # equal\n",
    "!=  # not equal\n",
    "<   # greater than\n",
    "<=  # greater than or equal\n",
    ">   # minor than\n",
    ">=  # minor than or equal\n",
    "and # and rule\n",
    "or  # or rule\n",
    "```"
   ]
  },
  {
   "cell_type": "code",
   "execution_count": null,
   "metadata": {},
   "outputs": [],
   "source": [
    "age = 17\n",
    "if ((age >= 18) and (age <= 70)):\n",
    "    # (18 <= age <= 70) also works\n",
    "    # execute if condition1 is true\n",
    "    print('you must vote')\n",
    "elif (age >= 16):\n",
    "    # execute if condition1 is false\n",
    "    # and condition2 is true\n",
    "    print('you may vote')\n",
    "else:\n",
    "    # execute if condition1 and\n",
    "    # condition 2 is false\n",
    "    print('you can\\'t vote yet')"
   ]
  },
  {
   "cell_type": "markdown",
   "metadata": {},
   "source": [
    "## Functions\n",
    "\n",
    "Um bloco de código que é executado quando chamado."
   ]
  },
  {
   "cell_type": "code",
   "execution_count": null,
   "metadata": {
    "scrolled": true
   },
   "outputs": [],
   "source": [
    "# definir a função shoudIVote\n",
    "def shouldIVote(input):\n",
    "    age = input\n",
    "    if ((age >= 18) and (age <= 70)):\n",
    "        result = 'yes, you must vote'\n",
    "    elif (age >= 16):\n",
    "        result = 'yes, you may vote'\n",
    "    else:\n",
    "        result = 'no, you can\\'t vote yet'\n",
    "    return result\n",
    "\n",
    "# input da função\n",
    "age = 25\n",
    "\n",
    "# chamada da função:\n",
    "print(shouldIVote(age))"
   ]
  },
  {
   "cell_type": "markdown",
   "metadata": {},
   "source": [
    "### Exercício\n",
    "\n",
    "Escreva uma função que calcule a idade de um cachorro de pequeno porte traduzido em idade humana. O primeiro ano do cachorro corresponde a 15 anos humanos; O segundo ano corresponde a 9 anos humanos. Nos anos seguintes, cada ano do cachorro corresponde a 4 anos humano. Fonte: https://pets.webmd.com/dogs/how-to-calculate-your-dogs-age"
   ]
  },
  {
   "cell_type": "code",
   "execution_count": null,
   "metadata": {},
   "outputs": [],
   "source": []
  },
  {
   "cell_type": "markdown",
   "metadata": {},
   "source": [
    "## For loops\n",
    "\n",
    "Um bloco de código que executa até o término de uma lista."
   ]
  },
  {
   "cell_type": "code",
   "execution_count": null,
   "metadata": {},
   "outputs": [],
   "source": [
    "# for loops\n",
    "fruits = ['apple', 'banana', 'mango']\n",
    "for y in fruits:\n",
    "    print(y) # prints all elements "
   ]
  },
  {
   "cell_type": "code",
   "execution_count": null,
   "metadata": {},
   "outputs": [],
   "source": [
    "# for loops with range()\n",
    "for i in range(0,10):\n",
    "    print(i, ' ', end='') # prints from 1 to 9"
   ]
  },
  {
   "cell_type": "code",
   "execution_count": null,
   "metadata": {},
   "outputs": [],
   "source": [
    "# continue\n",
    "for i in range(0,10):\n",
    "    if(i % 2 == 1):\n",
    "        continue\n",
    "    print(i, ' ', end='') # prints from 1 to 9"
   ]
  },
  {
   "cell_type": "code",
   "execution_count": null,
   "metadata": {},
   "outputs": [],
   "source": [
    "# break\n",
    "for i in range(0,10):\n",
    "    if(i == 5):\n",
    "        break\n",
    "    print(i, ' ', end='') # prints from 1 to 9"
   ]
  },
  {
   "cell_type": "markdown",
   "metadata": {},
   "source": [
    "### Exercício\n",
    "\n",
    "A variável \"idades\" é uma lista que contém idades de n pessoas de uma população. Verifique quantas pessoas dentro desta amostra devem votar."
   ]
  },
  {
   "cell_type": "code",
   "execution_count": null,
   "metadata": {},
   "outputs": [],
   "source": [
    "idades = [75,41,91,10,80,38,49,71,5,51,37,72,49,61,16,91,88,1,79,13,40,57,6,70,57,18,17,42,23,12,42,97,59,41,90,18,80,51,51,69,79,16,20,57,29,96,25,28,58,51,69,97,55,50,27,8,69,76,60,38,48,73,45,50,77,23,65,53,41,14,68,93,54,31,25,54,75,70,11,6,78,15,47,96,94,70,40,48,5,55,70,89,70,59,25,18,20,56,88,41]"
   ]
  },
  {
   "cell_type": "code",
   "execution_count": null,
   "metadata": {},
   "outputs": [],
   "source": [
    "# Escreva o seu código aqui\n",
    "\n"
   ]
  },
  {
   "cell_type": "markdown",
   "metadata": {},
   "source": [
    "## While loop\n",
    "\n",
    "Um bloco de código que é executado enquanto a condição estabelecida seja verdadeira."
   ]
  },
  {
   "cell_type": "code",
   "execution_count": null,
   "metadata": {},
   "outputs": [],
   "source": [
    "# while loop\n",
    "import random\n",
    "i = 0\n",
    "\n",
    "# while loop\n",
    "while (i < 100):\n",
    "    randNum = random.randrange(0, 100) # random number(0-100)\n",
    "    print(randNum, ' ', end='')\n",
    "    i += 1\n",
    "    "
   ]
  },
  {
   "cell_type": "code",
   "execution_count": null,
   "metadata": {},
   "outputs": [],
   "source": [
    "# while loop 2\n",
    "i = 0\n",
    "while (i < 100):\n",
    "    randNum = random.randrange(0, 100) # random number(0-99)\n",
    "    print(randNum, ' ', end='')\n",
    "    if (randNum % 10 == 0): # exit if multiple of 10\n",
    "        break\n",
    "    i += 1"
   ]
  },
  {
   "cell_type": "markdown",
   "metadata": {},
   "source": [
    "### Exercício\n",
    "\n",
    "Gere 100 números randômicos de 0 a 10. Verifique quantos são maiores que 8."
   ]
  },
  {
   "cell_type": "code",
   "execution_count": null,
   "metadata": {},
   "outputs": [],
   "source": [
    "\n",
    "\n"
   ]
  },
  {
   "cell_type": "markdown",
   "metadata": {},
   "source": [
    "Escreva um programa que gera uma sequência de Fibonacci de 0 a 50. (resultado esperado: 0,1,1,2,3,5,8,13,21,34)"
   ]
  },
  {
   "cell_type": "code",
   "execution_count": null,
   "metadata": {},
   "outputs": [],
   "source": [
    "\n",
    "\n"
   ]
  },
  {
   "cell_type": "markdown",
   "metadata": {},
   "source": [
    "## Open file\n",
    "\n",
    "Para abrir um arquivo, utilize a função open()."
   ]
  },
  {
   "cell_type": "code",
   "execution_count": null,
   "metadata": {
    "scrolled": true
   },
   "outputs": [],
   "source": [
    "# open file\n",
    "f = open(\"teste.csv\", \"r\")"
   ]
  },
  {
   "cell_type": "markdown",
   "metadata": {},
   "source": [
    "### Read file\n",
    "\n",
    "Existem duas formas de ler o arquivo que foi aberto:\n",
    "\n",
    "read() - lê o arquivo inteiro.\n",
    "\n",
    "readline() - lê o arquivo linha por linha."
   ]
  },
  {
   "cell_type": "code",
   "execution_count": null,
   "metadata": {},
   "outputs": [],
   "source": [
    "# read entire file\n",
    "data = f.read()\n",
    "\n",
    "# prints the entire data\n",
    "print(data)"
   ]
  },
  {
   "cell_type": "code",
   "execution_count": null,
   "metadata": {},
   "outputs": [],
   "source": [
    "# splits data based on '\\n'\n",
    "rows = data.split('\\n')\n",
    "\n",
    "# prints the first five rows\n",
    "for row in range(0,5):\n",
    "    print(rows[row])"
   ]
  },
  {
   "cell_type": "code",
   "execution_count": null,
   "metadata": {},
   "outputs": [],
   "source": [
    "# read file\n",
    "f = open(\"teste.csv\", \"r\")\n",
    "\n",
    "# pick the first line\n",
    "line = f.readline()\n",
    "\n",
    "# prints the first line\n",
    "print(line)"
   ]
  },
  {
   "cell_type": "code",
   "execution_count": null,
   "metadata": {},
   "outputs": [],
   "source": [
    "# pick the second line and so on...\n",
    "line = f.readline()\n",
    "\n",
    "# prints the second line and so on...\n",
    "print(line)"
   ]
  },
  {
   "cell_type": "code",
   "execution_count": null,
   "metadata": {
    "scrolled": true
   },
   "outputs": [],
   "source": [
    "# read file\n",
    "f = open(\"teste.csv\", \"r\")\n",
    "\n",
    "\n",
    "# prints the first five rows\n",
    "for row in range(0,5):\n",
    "    line = f.readline()\n",
    "    print(line)"
   ]
  },
  {
   "cell_type": "markdown",
   "metadata": {},
   "source": [
    "### Exercício\n",
    "\n",
    "Abra o arquivo wdbc.data e verifique:\n",
    "\n",
    "a) Quantas linhas o arquivo possui? Utilize a função readline()."
   ]
  },
  {
   "cell_type": "code",
   "execution_count": null,
   "metadata": {},
   "outputs": [],
   "source": [
    "\n",
    "\n"
   ]
  },
  {
   "cell_type": "markdown",
   "metadata": {},
   "source": [
    "b) Quantas colunas o arquivo possui? Considere que as colunas estejam delimitadas por \",\"."
   ]
  },
  {
   "cell_type": "code",
   "execution_count": null,
   "metadata": {},
   "outputs": [],
   "source": [
    "\n",
    "\n"
   ]
  },
  {
   "cell_type": "markdown",
   "metadata": {},
   "source": [
    "c) Quantas categorias distintas estão presentes na segunda coluna?"
   ]
  },
  {
   "cell_type": "code",
   "execution_count": null,
   "metadata": {},
   "outputs": [],
   "source": [
    "\n",
    "\n"
   ]
  },
  {
   "cell_type": "markdown",
   "metadata": {},
   "source": [
    "d) Qual o número de observações encontrados para cada categoria da segunda coluna?"
   ]
  },
  {
   "cell_type": "code",
   "execution_count": null,
   "metadata": {},
   "outputs": [],
   "source": [
    "\n",
    "\n",
    "\n"
   ]
  }
 ],
 "metadata": {
  "kernelspec": {
   "display_name": "Python 3",
   "language": "python",
   "name": "python3"
  },
  "language_info": {
   "codemirror_mode": {
    "name": "ipython",
    "version": 3
   },
   "file_extension": ".py",
   "mimetype": "text/x-python",
   "name": "python",
   "nbconvert_exporter": "python",
   "pygments_lexer": "ipython3",
   "version": "3.7.4"
  }
 },
 "nbformat": 4,
 "nbformat_minor": 2
}
